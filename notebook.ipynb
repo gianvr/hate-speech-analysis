{
 "cells": [
  {
   "cell_type": "code",
   "execution_count": 1,
   "metadata": {},
   "outputs": [],
   "source": [
    "import re\n",
    "\n",
    "import numpy as np\n",
    "import pandas as pd\n",
    "from matplotlib import pyplot as plt\n",
    "from nltk.corpus import stopwords\n",
    "from nltk.stem import WordNetLemmatizer\n",
    "from sklearn.decomposition import NMF\n",
    "from sklearn.ensemble import RandomForestClassifier\n",
    "from sklearn.feature_extraction.text import CountVectorizer, TfidfVectorizer\n",
    "from sklearn.linear_model import LogisticRegression\n",
    "from sklearn.metrics import balanced_accuracy_score\n",
    "from sklearn.model_selection import ShuffleSplit, train_test_split\n",
    "from sklearn.pipeline import Pipeline"
   ]
  },
  {
   "cell_type": "markdown",
   "metadata": {},
   "source": [
    "## Dataset"
   ]
  },
  {
   "cell_type": "code",
   "execution_count": 2,
   "metadata": {},
   "outputs": [
    {
     "data": {
      "text/html": [
       "<div>\n",
       "<style scoped>\n",
       "    .dataframe tbody tr th:only-of-type {\n",
       "        vertical-align: middle;\n",
       "    }\n",
       "\n",
       "    .dataframe tbody tr th {\n",
       "        vertical-align: top;\n",
       "    }\n",
       "\n",
       "    .dataframe thead th {\n",
       "        text-align: right;\n",
       "    }\n",
       "</style>\n",
       "<table border=\"1\" class=\"dataframe\">\n",
       "  <thead>\n",
       "    <tr style=\"text-align: right;\">\n",
       "      <th></th>\n",
       "      <th>count</th>\n",
       "      <th>hate_speech</th>\n",
       "      <th>offensive_language</th>\n",
       "      <th>neither</th>\n",
       "      <th>class</th>\n",
       "      <th>tweet</th>\n",
       "    </tr>\n",
       "  </thead>\n",
       "  <tbody>\n",
       "    <tr>\n",
       "      <th>0</th>\n",
       "      <td>3</td>\n",
       "      <td>0</td>\n",
       "      <td>0</td>\n",
       "      <td>3</td>\n",
       "      <td>2</td>\n",
       "      <td>!!! RT @mayasolovely: As a woman you shouldn't...</td>\n",
       "    </tr>\n",
       "    <tr>\n",
       "      <th>1</th>\n",
       "      <td>3</td>\n",
       "      <td>0</td>\n",
       "      <td>3</td>\n",
       "      <td>0</td>\n",
       "      <td>1</td>\n",
       "      <td>!!!!! RT @mleew17: boy dats cold...tyga dwn ba...</td>\n",
       "    </tr>\n",
       "    <tr>\n",
       "      <th>2</th>\n",
       "      <td>3</td>\n",
       "      <td>0</td>\n",
       "      <td>3</td>\n",
       "      <td>0</td>\n",
       "      <td>1</td>\n",
       "      <td>!!!!!!! RT @UrKindOfBrand Dawg!!!! RT @80sbaby...</td>\n",
       "    </tr>\n",
       "    <tr>\n",
       "      <th>3</th>\n",
       "      <td>3</td>\n",
       "      <td>0</td>\n",
       "      <td>2</td>\n",
       "      <td>1</td>\n",
       "      <td>1</td>\n",
       "      <td>!!!!!!!!! RT @C_G_Anderson: @viva_based she lo...</td>\n",
       "    </tr>\n",
       "    <tr>\n",
       "      <th>4</th>\n",
       "      <td>6</td>\n",
       "      <td>0</td>\n",
       "      <td>6</td>\n",
       "      <td>0</td>\n",
       "      <td>1</td>\n",
       "      <td>!!!!!!!!!!!!! RT @ShenikaRoberts: The shit you...</td>\n",
       "    </tr>\n",
       "  </tbody>\n",
       "</table>\n",
       "</div>"
      ],
      "text/plain": [
       "   count  hate_speech  offensive_language  neither  class  \\\n",
       "0      3            0                   0        3      2   \n",
       "1      3            0                   3        0      1   \n",
       "2      3            0                   3        0      1   \n",
       "3      3            0                   2        1      1   \n",
       "4      6            0                   6        0      1   \n",
       "\n",
       "                                               tweet  \n",
       "0  !!! RT @mayasolovely: As a woman you shouldn't...  \n",
       "1  !!!!! RT @mleew17: boy dats cold...tyga dwn ba...  \n",
       "2  !!!!!!! RT @UrKindOfBrand Dawg!!!! RT @80sbaby...  \n",
       "3  !!!!!!!!! RT @C_G_Anderson: @viva_based she lo...  \n",
       "4  !!!!!!!!!!!!! RT @ShenikaRoberts: The shit you...  "
      ]
     },
     "execution_count": 2,
     "metadata": {},
     "output_type": "execute_result"
    }
   ],
   "source": [
    "df = pd.read_csv(\"data/labeled_data.csv\").drop(columns=[\"Unnamed: 0\"])\n",
    "df.head(5)"
   ]
  },
  {
   "cell_type": "markdown",
   "metadata": {},
   "source": [
    "### Colunas:\n",
    "\n",
    "count = número de usuários do CrowdFlower que codificaram cada tweet (o mínimo é 3, às vezes mais usuários codificaram um tweet quando os julgamentos foram considerados pouco confiáveis pelo CF).\n",
    "\n",
    "hate_speech = número de usuários do CF que julgaram o tweet como discurso de ódio.\n",
    "\n",
    "offensive_language = número de usuários do CF que julgaram o tweet como linguagem ofensiva.\n",
    "\n",
    "neither = número de usuários do CF que julgaram o tweet como nem ofensivo nem não ofensivo.\n",
    "\n",
    "class = rótulo de classe para a maioria dos usuários do CF.\n",
    "\n",
    "    0 - discurso de ódio\n",
    "    1 - linguagem ofensiva\n",
    "    2 - nenhum dos dois\n",
    "\n",
    "tweet = texto bruto do tweet\n"
   ]
  },
  {
   "cell_type": "code",
   "execution_count": 3,
   "metadata": {},
   "outputs": [
    {
     "data": {
      "text/plain": [
       "<Axes: >"
      ]
     },
     "execution_count": 3,
     "metadata": {},
     "output_type": "execute_result"
    },
    {
     "data": {
      "image/png": "[encoded data removed]",
      "text/plain": [
       "<Figure size 640x480 with 1 Axes>"
      ]
     },
     "metadata": {},
     "output_type": "display_data"
    }
   ],
   "source": [
    "df[\"class\"].hist()\n"
   ]
  },
  {
   "cell_type": "markdown",
   "metadata": {},
   "source": [
    "Pelo histograma acima, é possível perceber que a quantidade de tweets com linguagem ofensiva é maior que a quantidade de tweets com discurso de ódio e com nenhum dos dois. Portanto o dataset está desbalanceado."
   ]
  },
  {
   "cell_type": "markdown",
   "metadata": {},
   "source": [
    "## Pré-Processamento"
   ]
  },
  {
   "cell_type": "code",
   "execution_count": 4,
   "metadata": {},
   "outputs": [],
   "source": [
    "X = df[\"tweet\"]\n",
    "y = df[\"class\"]"
   ]
  },
  {
   "cell_type": "markdown",
   "metadata": {},
   "source": [
    "Remove urls, menções, urls, caracteres especiais, \"RT\" e números."
   ]
  },
  {
   "cell_type": "code",
   "execution_count": 5,
   "metadata": {},
   "outputs": [],
   "source": [
    "url_regex = (r'http[s]?://(?:[a-zA-Z]|[0-9]|[$-_@.&+]|'\n",
    "        r'[!*\\(\\),]|(?:%[0-9a-fA-F][0-9a-fA-F]))+')\n",
    "\n",
    "username_regex = '@[A-Za-z0-9_]+'\n",
    "\n",
    "special_chars_regex = '[^A-Za-z]+'\n",
    "\n",
    "X = X.apply(lambda x: re.sub(url_regex, '', x))\n",
    "X = X.apply(lambda x: re.sub(username_regex, '', x))\n",
    "X = X.apply(lambda x: re.sub(special_chars_regex, ' ', x))\n",
    "X = X.apply(lambda x: x.lower())\n",
    "X = X.apply(lambda x: x.replace('rt', ''))"
   ]
  },
  {
   "cell_type": "markdown",
   "metadata": {},
   "source": [
    "Remove stopwords."
   ]
  },
  {
   "cell_type": "code",
   "execution_count": 6,
   "metadata": {},
   "outputs": [],
   "source": [
    "stop_words = set(stopwords.words('english'))\n",
    "\n",
    "X = X.apply(lambda x: ' '.join([word for word in x.split() if word not in stop_words]))\n",
    "X = X.apply(lambda x: x.replace('rt', ''))"
   ]
  },
  {
   "cell_type": "markdown",
   "metadata": {},
   "source": [
    "Realiza a lematização das palavras."
   ]
  },
  {
   "cell_type": "code",
   "execution_count": 7,
   "metadata": {},
   "outputs": [],
   "source": [
    "lemmatizer = WordNetLemmatizer()\n",
    "\n",
    "X = X.apply(lambda x: ' '.join([lemmatizer.lemmatize(word) for word in x.split()]))"
   ]
  },
  {
   "cell_type": "markdown",
   "metadata": {},
   "source": [
    "Utilizando o TfidfVectorizer para vetorizar o texto."
   ]
  },
  {
   "cell_type": "code",
   "execution_count": 8,
   "metadata": {},
   "outputs": [
    {
     "data": {
      "text/plain": [
       "(24783, 18050)"
      ]
     },
     "execution_count": 8,
     "metadata": {},
     "output_type": "execute_result"
    }
   ],
   "source": [
    "vectorizer = TfidfVectorizer()\n",
    "tfidf = vectorizer.fit_transform(X)\n",
    "tfidf.shape"
   ]
  },
  {
   "cell_type": "code",
   "execution_count": 9,
   "metadata": {},
   "outputs": [],
   "source": [
    "feature_names = vectorizer.get_feature_names_out()"
   ]
  },
  {
   "cell_type": "markdown",
   "metadata": {},
   "source": [
    "## Classificador"
   ]
  },
  {
   "cell_type": "markdown",
   "metadata": {},
   "source": [
    "### Regressão Logística"
   ]
  },
  {
   "cell_type": "code",
   "execution_count": 13,
   "metadata": {},
   "outputs": [
    {
     "name": "stdout",
     "output_type": "stream",
     "text": [
      "A média da acurácia do Logistic Regression é 0.80\n"
     ]
    }
   ],
   "source": [
    "accuracies_LR = []\n",
    "\n",
    "model_lr = LogisticRegression(class_weight='balanced')\n",
    "\n",
    "shuffle_split = ShuffleSplit(n_splits=30, test_size=0.2)\n",
    "\n",
    "importance_accumulator_LR = np.zeros(len(feature_names))\n",
    "\n",
    "for train_index, test_index in shuffle_split.split(tfidf):\n",
    "    X_train, X_test = tfidf[train_index], tfidf[test_index]\n",
    "    y_train, y_test = y[train_index], y[test_index]\n",
    "\n",
    "    \n",
    "    model_lr.fit(X_train, y_train)\n",
    "\n",
    "    importance_accumulator_LR += np.abs(model_lr.coef_[0])\n",
    "\n",
    "    y_pred = model_lr.predict(X_test)\n",
    "\n",
    "    accuracy = balanced_accuracy_score(y_test, y_pred)\n",
    "    accuracies_LR.append(accuracy)\n",
    "\n",
    "mean_accuracy_lr = sum(accuracies_LR) / len(accuracies_LR)\n",
    "print(f\"A média da acurácia do Logistic Regression é {mean_accuracy_lr:.2f}\")"
   ]
  },
  {
   "cell_type": "code",
   "execution_count": 14,
   "metadata": {},
   "outputs": [
    {
     "name": "stdout",
     "output_type": "stream",
     "text": [
      "Top 10 features:\n",
      "faggot\n",
      "nigger\n",
      "nigga\n",
      "fag\n",
      "white\n",
      "queer\n",
      "dyke\n",
      "fuck\n",
      "wetback\n",
      "coon\n"
     ]
    }
   ],
   "source": [
    "average_importance = importance_accumulator_LR / shuffle_split.get_n_splits()\n",
    "sorted_importance = np.argsort(average_importance)[::-1]\n",
    "top_10 = sorted_importance[:10]\n",
    "\n",
    "print(\"Top 10 features:\")\n",
    "for index in top_10:\n",
    "    print(feature_names[index])"
   ]
  },
  {
   "cell_type": "markdown",
   "metadata": {},
   "source": [
    "### Random Forest"
   ]
  },
  {
   "cell_type": "code",
   "execution_count": 26,
   "metadata": {},
   "outputs": [
    {
     "name": "stdout",
     "output_type": "stream",
     "text": [
      "A média da acurácia do Random Forest é 0.81\n"
     ]
    }
   ],
   "source": [
    "accuracies_RF = []\n",
    "\n",
    "model_RF = RandomForestClassifier(n_jobs=-1, class_weight=\"balanced_subsample\", min_samples_leaf=2)\n",
    "\n",
    "shuffle_split = ShuffleSplit(n_splits=30, test_size=0.2)\n",
    "\n",
    "importance_accumulator_RF = np.zeros(len(feature_names))\n",
    "\n",
    "count = 0\n",
    "\n",
    "for train_index, test_index in shuffle_split.split(tfidf):\n",
    "    X_train, X_test = tfidf[train_index], tfidf[test_index]\n",
    "    y_train, y_test = y[train_index], y[test_index]\n",
    "\n",
    "    \n",
    "    model_RF.fit(X_train, y_train)\n",
    "\n",
    "    importance_accumulator_RF += model_RF.feature_importances_\n",
    "\n",
    "    y_pred = model_RF.predict(X_test)\n",
    "\n",
    "    accuracy = balanced_accuracy_score(y_test, y_pred)\n",
    "    accuracies_RF.append(accuracy)\n",
    "\n",
    "    count += 1\n",
    "    print(f\"count: {count}/30 accuracy:{accuracy}\", end=\"\\r\")\n",
    "    \n",
    "\n",
    "mean_accuracy_RF = sum(accuracies_RF) / len(accuracies_RF)\n",
    "print(f\"A média da acurácia do Random Forest é {mean_accuracy_RF:.2f}\")"
   ]
  },
  {
   "cell_type": "code",
   "execution_count": 19,
   "metadata": {},
   "outputs": [
    {
     "name": "stdout",
     "output_type": "stream",
     "text": [
      "Top 10 features:\n",
      "bitch\n",
      "hoe\n",
      "faggot\n",
      "pussy\n",
      "nigger\n",
      "nigga\n",
      "fag\n",
      "trash\n",
      "bird\n",
      "fuck\n"
     ]
    }
   ],
   "source": [
    "average_importance = importance_accumulator_RF / shuffle_split.get_n_splits()\n",
    "sorted_importance = np.argsort(average_importance)[::-1]\n",
    "top_10 = sorted_importance[:10]\n",
    "\n",
    "print(\"Top 10 features:\")\n",
    "for index in top_10:\n",
    "    print(feature_names[index])"
   ]
  },
  {
   "cell_type": "markdown",
   "metadata": {},
   "source": [
    "## Dataset Size"
   ]
  },
  {
   "cell_type": "code",
   "execution_count": 22,
   "metadata": {},
   "outputs": [],
   "source": [
    "df_data = pd.DataFrame({\"tweet\": X, \"class\": y})"
   ]
  },
  {
   "cell_type": "code",
   "execution_count": 23,
   "metadata": {},
   "outputs": [],
   "source": [
    "dict_f_accuracy = {}\n",
    "\n",
    "model = Pipeline([\n",
    "            ('vectorizer', TfidfVectorizer()),\n",
    "            ('classifier', LogisticRegression(class_weight='balanced'))\n",
    "        ])\n",
    "\n",
    "\n",
    "for f in np.arange(0.01, 0.9, 0.01):\n",
    "    train_accuracies = []\n",
    "    test_accuracies = []\n",
    "    \n",
    "\n",
    "    for _ in range(10):\n",
    "        data_resampled = df.sample(frac=f)\n",
    "        target_resampled = data_resampled[\"class\"]\n",
    "\n",
    "        X_train, X_test, y_train, y_test = train_test_split(data_resampled[\"tweet\"], target_resampled, test_size=0.2, random_state=42)\n",
    "\n",
    "        model.fit(X_train, y_train)\n",
    "\n",
    "        y_pred_train = model.predict(X_train)\n",
    "        y_pred_test = model.predict(X_test)\n",
    "\n",
    "        train_accuracies.append(balanced_accuracy_score(y_train, y_pred_train))\n",
    "        test_accuracies.append(balanced_accuracy_score(y_test, y_pred_test))\n",
    "\n",
    "    dict_f_accuracy[f] = {'train': np.mean(train_accuracies), 'test': np.mean(test_accuracies)}"
   ]
  },
  {
   "cell_type": "code",
   "execution_count": 35,
   "metadata": {},
   "outputs": [],
   "source": [
    "df_f_accuracy = pd.DataFrame(dict_f_accuracy).T\n",
    "df_f_accuracy[\"train\"] = 1 - df_f_accuracy[\"train\"]\n",
    "df_f_accuracy[\"test\"] = 1 - df_f_accuracy[\"test\"]"
   ]
  },
  {
   "cell_type": "code",
   "execution_count": 36,
   "metadata": {},
   "outputs": [],
   "source": [
    "df_f_accuracy.index = df_f_accuracy.index * len(df)\n",
    "df_f_accuracy[\"test\"] = df_f_accuracy[\"test\"].rolling(window=5).mean()"
   ]
  },
  {
   "cell_type": "code",
   "execution_count": 40,
   "metadata": {},
   "outputs": [
    {
     "data": {
      "image/png": "[encoded data removed]",
      "text/plain": [
       "<Figure size 640x480 with 1 Axes>"
      ]
     },
     "metadata": {},
     "output_type": "display_data"
    }
   ],
   "source": [
    "df_f_accuracy.plot()\n",
    "plt.xlabel(\"Number of samples\")\n",
    "plt.ylabel(\"Error rate\")\n",
    "plt.show()"
   ]
  },
  {
   "cell_type": "markdown",
   "metadata": {},
   "source": [
    "## Topic Models"
   ]
  },
  {
   "cell_type": "code",
   "execution_count": 10,
   "metadata": {},
   "outputs": [
    {
     "data": {
      "text/plain": [
       "(24783, 3)"
      ]
     },
     "execution_count": 10,
     "metadata": {},
     "output_type": "execute_result"
    }
   ],
   "source": [
    "corpus = X\n",
    "\n",
    "vectorizer_nmf_pipeline = Pipeline([('vectorizer', CountVectorizer(binary=True)),\n",
    "                                ('nmf', NMF(n_components=3, random_state=42))])\n",
    "X_nmf = vectorizer_nmf_pipeline.fit_transform(corpus)\n",
    "X_nmf.shape"
   ]
  },
  {
   "cell_type": "code",
   "execution_count": 11,
   "metadata": {},
   "outputs": [
    {
     "name": "stdout",
     "output_type": "stream",
     "text": [
      "Topic 0\n",
      "get\n",
      "fuck\n",
      "as\n",
      "nigga\n",
      "bitch\n",
      "\n",
      "Topic 1\n",
      "get\n",
      "as\n",
      "got\n",
      "nigga\n",
      "hoe\n",
      "\n",
      "Topic 2\n",
      "get\n",
      "look\n",
      "nigga\n",
      "pussy\n",
      "like\n",
      "\n",
      "\n"
     ]
    }
   ],
   "source": [
    "def print_words_in_topics(nmf, vectorizer):\n",
    "    words = vectorizer.get_feature_names_out()\n",
    "    for idx, topic in enumerate(nmf.components_):\n",
    "        print(f\"Topic {idx}\")\n",
    "        for i in topic.argsort()[-5:]:\n",
    "            print(words[i])\n",
    "        print()\n",
    "    print()\n",
    "    \n",
    "print_words_in_topics(vectorizer_nmf_pipeline.named_steps['nmf'], vectorizer_nmf_pipeline.named_steps['vectorizer'])"
   ]
  },
  {
   "cell_type": "code",
   "execution_count": 12,
   "metadata": {},
   "outputs": [
    {
     "name": "stdout",
     "output_type": "stream",
     "text": [
      "Média da acurácia por tópico após 10 iterações: 0.67\n",
      "Média da acurácia para o tópico 0: 0.58\n",
      "Média da acurácia para o tópico 1: 0.67\n",
      "Média da acurácia para o tópico 2: 0.76\n"
     ]
    }
   ],
   "source": [
    "num_iterations = 10\n",
    "accuracies = []\n",
    "accuracies_by_topic = {i: [] for i in range(3)}  \n",
    "\n",
    "for _ in range(num_iterations):\n",
    "    X_train, X_test, y_train, y_test = train_test_split(corpus, y, test_size=0.2, random_state=42)\n",
    "\n",
    "    topic_pipeline = Pipeline([\n",
    "        ('vectorizer', CountVectorizer()),\n",
    "        ('nmf', NMF(n_components=3, random_state=42))\n",
    "    ])\n",
    "\n",
    "    X_topic_train = topic_pipeline.fit_transform(X_train)\n",
    "    X_topic_test = topic_pipeline.transform(X_test)\n",
    "    prominent_topics = np.argmax(X_topic_test, axis=1)\n",
    "\n",
    "    classification_pipeline = Pipeline([\n",
    "        ('vectorizer', CountVectorizer()),\n",
    "        ('classifier', LogisticRegression(class_weight='balanced'))\n",
    "    ])\n",
    "\n",
    "    classification_pipeline.fit(X_train, y_train)\n",
    "    y_pred = classification_pipeline.predict(X_test)\n",
    "\n",
    "    accuracy_by_topic = {}\n",
    "    for topic in np.unique(prominent_topics):\n",
    "        topic_indices = np.where(prominent_topics == topic)\n",
    "        accuracy_by_topic[topic] = balanced_accuracy_score(y_test.iloc[topic_indices], y_pred[topic_indices])\n",
    "        accuracies_by_topic[topic].append(accuracy_by_topic[topic])\n",
    "\n",
    "    accuracies.append(np.mean(list(accuracy_by_topic.values())))\n",
    "\n",
    "mean_accuracy = np.mean(accuracies)\n",
    "print(f\"Média da acurácia por tópico após {num_iterations} iterações: {mean_accuracy:.2f}\")\n",
    "\n",
    "for topic, acc_list in accuracies_by_topic.items():\n",
    "    if acc_list:  \n",
    "        mean_topic_accuracy = np.mean(acc_list)\n",
    "        print(f\"Média da acurácia para o tópico {topic}: {mean_topic_accuracy:.2f}\")"
   ]
  },
  {
   "cell_type": "code",
   "execution_count": null,
   "metadata": {},
   "outputs": [],
   "source": []
  },
  {
   "cell_type": "code",
   "execution_count": null,
   "metadata": {},
   "outputs": [],
   "source": []
  }
 ],
 "metadata": {
  "kernelspec": {
   "display_name": "Python 3",
   "language": "python",
   "name": "python3"
  },
  "language_info": {
   "codemirror_mode": {
    "name": "ipython",
    "version": 3
   },
   "file_extension": ".py",
   "mimetype": "text/x-python",
   "name": "python",
   "nbconvert_exporter": "python",
   "pygments_lexer": "ipython3",
   "version": "3.12.4"
  }
 },
 "nbformat": 4,
 "nbformat_minor": 2
}
